{
 "cells": [
  {
   "cell_type": "code",
   "execution_count": 29,
   "metadata": {},
   "outputs": [],
   "source": [
    "import pandas as pd\n",
    "import numpy as np\n",
    "import matplotlib.pyplot as plt\n",
    "from collections import Counter"
   ]
  },
  {
   "cell_type": "code",
   "execution_count": 23,
   "metadata": {},
   "outputs": [],
   "source": [
    "data= pd.read_csv(\"../data/capturados.txt\", sep='\\t', lineterminator='\\n')\n",
    "# Gracias Cuestion Publica! https://cuestionpublica.com/explora-lista-capturados-en-el-pais-paro-nacional/"
   ]
  },
  {
   "cell_type": "code",
   "execution_count": 24,
   "metadata": {},
   "outputs": [
    {
     "data": {
      "text/html": [
       "<div>\n",
       "<style scoped>\n",
       "    .dataframe tbody tr th:only-of-type {\n",
       "        vertical-align: middle;\n",
       "    }\n",
       "\n",
       "    .dataframe tbody tr th {\n",
       "        vertical-align: top;\n",
       "    }\n",
       "\n",
       "    .dataframe thead th {\n",
       "        text-align: right;\n",
       "    }\n",
       "</style>\n",
       "<table border=\"1\" class=\"dataframe\">\n",
       "  <thead>\n",
       "    <tr style=\"text-align: right;\">\n",
       "      <th></th>\n",
       "      <th>DESCRIPCION_CONDUCTA_CAPTURA</th>\n",
       "      <th>APELLIDOS</th>\n",
       "      <th>NOMBRES</th>\n",
       "      <th>EDAD</th>\n",
       "      <th>CANTIDAD</th>\n",
       "    </tr>\n",
       "  </thead>\n",
       "  <tbody>\n",
       "    <tr>\n",
       "      <th>0</th>\n",
       "      <td>ARTÍCULO 239. HURTO ENTIDADES COMERCIALES</td>\n",
       "      <td>RAMIREZ FLOREZ</td>\n",
       "      <td>JUAN CARLOS</td>\n",
       "      <td>14</td>\n",
       "      <td>2</td>\n",
       "    </tr>\n",
       "    <tr>\n",
       "      <th>1</th>\n",
       "      <td>ARTÍCULO 265. DAÑO EN BIEN AJENO</td>\n",
       "      <td>ARANDA YARA</td>\n",
       "      <td>JHON ENDERS</td>\n",
       "      <td>14</td>\n",
       "      <td>1</td>\n",
       "    </tr>\n",
       "    <tr>\n",
       "      <th>2</th>\n",
       "      <td>ARTÍCULO 265. DAÑO EN BIEN AJENO</td>\n",
       "      <td>BERMUDEZ CHICA</td>\n",
       "      <td>ALEJANDRO</td>\n",
       "      <td>14</td>\n",
       "      <td>1</td>\n",
       "    </tr>\n",
       "    <tr>\n",
       "      <th>3</th>\n",
       "      <td>ARTÍCULO 265. DAÑO EN BIEN AJENO</td>\n",
       "      <td>GAVIRIA GUTIERREZ</td>\n",
       "      <td>IVAN FELIPE</td>\n",
       "      <td>14</td>\n",
       "      <td>1</td>\n",
       "    </tr>\n",
       "    <tr>\n",
       "      <th>4</th>\n",
       "      <td>ARTÍCULO 265. DAÑO EN BIEN AJENO</td>\n",
       "      <td>LASERNA</td>\n",
       "      <td>JUAN ANDRES</td>\n",
       "      <td>14</td>\n",
       "      <td>1</td>\n",
       "    </tr>\n",
       "    <tr>\n",
       "      <th>...</th>\n",
       "      <td>...</td>\n",
       "      <td>...</td>\n",
       "      <td>...</td>\n",
       "      <td>...</td>\n",
       "      <td>...</td>\n",
       "    </tr>\n",
       "    <tr>\n",
       "      <th>1097</th>\n",
       "      <td>ARTÍCULO 353A. OBSTRUCCION A VIAS PUBLICAS QUE...</td>\n",
       "      <td>SUAREZ ROJAS</td>\n",
       "      <td>JOSE ANTONIO</td>\n",
       "      <td>58</td>\n",
       "      <td>1</td>\n",
       "    </tr>\n",
       "    <tr>\n",
       "      <th>1098</th>\n",
       "      <td>ARTÍCULO 265. DAÑO EN BIEN AJENO</td>\n",
       "      <td>ANAYA TAQUINAS</td>\n",
       "      <td>GUSTAVO</td>\n",
       "      <td>59</td>\n",
       "      <td>1</td>\n",
       "    </tr>\n",
       "    <tr>\n",
       "      <th>1099</th>\n",
       "      <td>ARTÍCULO 366. FABRICACIÓN, TRÁFICO Y PORTE DE ...</td>\n",
       "      <td>BUITRAGO GARZON</td>\n",
       "      <td>MARLENE YOLANDA</td>\n",
       "      <td>59</td>\n",
       "      <td>1</td>\n",
       "    </tr>\n",
       "    <tr>\n",
       "      <th>1100</th>\n",
       "      <td>ARTÍCULO 366. FABRICACIÓN, TRÁFICO Y PORTE DE ...</td>\n",
       "      <td>ROJO CERON</td>\n",
       "      <td>JAIRO DE JESUS</td>\n",
       "      <td>60</td>\n",
       "      <td>1</td>\n",
       "    </tr>\n",
       "    <tr>\n",
       "      <th>1101</th>\n",
       "      <td>ARTÍCULO 343. TERRORISMO</td>\n",
       "      <td>MORENO HECTOR</td>\n",
       "      <td>MIGUEL</td>\n",
       "      <td>71</td>\n",
       "      <td>1</td>\n",
       "    </tr>\n",
       "  </tbody>\n",
       "</table>\n",
       "<p>1102 rows × 5 columns</p>\n",
       "</div>"
      ],
      "text/plain": [
       "                           DESCRIPCION_CONDUCTA_CAPTURA          APELLIDOS  \\\n",
       "0             ARTÍCULO 239. HURTO ENTIDADES COMERCIALES     RAMIREZ FLOREZ   \n",
       "1                      ARTÍCULO 265. DAÑO EN BIEN AJENO        ARANDA YARA   \n",
       "2                      ARTÍCULO 265. DAÑO EN BIEN AJENO     BERMUDEZ CHICA   \n",
       "3                      ARTÍCULO 265. DAÑO EN BIEN AJENO  GAVIRIA GUTIERREZ   \n",
       "4                      ARTÍCULO 265. DAÑO EN BIEN AJENO            LASERNA   \n",
       "...                                                 ...                ...   \n",
       "1097  ARTÍCULO 353A. OBSTRUCCION A VIAS PUBLICAS QUE...       SUAREZ ROJAS   \n",
       "1098                   ARTÍCULO 265. DAÑO EN BIEN AJENO     ANAYA TAQUINAS   \n",
       "1099  ARTÍCULO 366. FABRICACIÓN, TRÁFICO Y PORTE DE ...    BUITRAGO GARZON   \n",
       "1100  ARTÍCULO 366. FABRICACIÓN, TRÁFICO Y PORTE DE ...         ROJO CERON   \n",
       "1101                           ARTÍCULO 343. TERRORISMO      MORENO HECTOR   \n",
       "\n",
       "              NOMBRES  EDAD  CANTIDAD  \n",
       "0         JUAN CARLOS    14         2  \n",
       "1         JHON ENDERS    14         1  \n",
       "2           ALEJANDRO    14         1  \n",
       "3         IVAN FELIPE    14         1  \n",
       "4         JUAN ANDRES    14         1  \n",
       "...               ...   ...       ...  \n",
       "1097     JOSE ANTONIO    58         1  \n",
       "1098          GUSTAVO    59         1  \n",
       "1099  MARLENE YOLANDA    59         1  \n",
       "1100   JAIRO DE JESUS    60         1  \n",
       "1101           MIGUEL    71         1  \n",
       "\n",
       "[1102 rows x 5 columns]"
      ]
     },
     "execution_count": 24,
     "metadata": {},
     "output_type": "execute_result"
    }
   ],
   "source": [
    "data"
   ]
  },
  {
   "cell_type": "code",
   "execution_count": 25,
   "metadata": {},
   "outputs": [
    {
     "data": {
      "text/plain": [
       "24.1524500907441"
      ]
     },
     "execution_count": 25,
     "metadata": {},
     "output_type": "execute_result"
    }
   ],
   "source": [
    "# edad promedio\n",
    "np.mean(data['EDAD'])"
   ]
  },
  {
   "cell_type": "code",
   "execution_count": 26,
   "metadata": {},
   "outputs": [
    {
     "data": {
      "text/plain": [
       "7.80399274047187"
      ]
     },
     "execution_count": 26,
     "metadata": {},
     "output_type": "execute_result"
    }
   ],
   "source": [
    "# porcentaje de menores\n",
    "100*np.count_nonzero(data['EDAD']<18)/len(data)"
   ]
  },
  {
   "cell_type": "code",
   "execution_count": 28,
   "metadata": {},
   "outputs": [
    {
     "data": {
      "text/plain": [
       "(array([286., 493., 179.,  75.,  39.,  12.,   9.,   7.,   1.,   1.]),\n",
       " array([14. , 19.7, 25.4, 31.1, 36.8, 42.5, 48.2, 53.9, 59.6, 65.3, 71. ]),\n",
       " <BarContainer object of 10 artists>)"
      ]
     },
     "execution_count": 28,
     "metadata": {},
     "output_type": "execute_result"
    },
    {
     "data": {
      "image/png": "[encoded data removed]",
      "text/plain": [
       "<Figure size 432x288 with 1 Axes>"
      ]
     },
     "metadata": {
      "needs_background": "light"
     },
     "output_type": "display_data"
    }
   ],
   "source": [
    "#histograma edades\n",
    "plt.hist(data['EDAD'])"
   ]
  },
  {
   "cell_type": "code",
   "execution_count": 30,
   "metadata": {},
   "outputs": [],
   "source": [
    "C = Counter(data['DESCRIPCION_CONDUCTA_CAPTURA'])"
   ]
  },
  {
   "cell_type": "code",
   "execution_count": 33,
   "metadata": {},
   "outputs": [
    {
     "data": {
      "text/plain": [
       "[('ARTÍCULO 353A. OBSTRUCCION A VIAS PUBLICAS QUE AFECTEN EL ORDEN PUBLICO',\n",
       "  399),\n",
       " ('ARTÍCULO 265. DAÑO EN BIEN AJENO', 224),\n",
       " ('ARTÍCULO 239. HURTO ENTIDADES COMERCIALES', 114),\n",
       " ('ARTÍCULO 429. VIOLENCIA CONTRA SERVIDOR PÚBLICO', 87),\n",
       " ('ARTÍCULO 353. PERTURBACIÓN EN SERVICIO DE TRANSPORTE PÚBLICO, COLECTIVO U OFICIAL',\n",
       "  46)]"
      ]
     },
     "execution_count": 33,
     "metadata": {},
     "output_type": "execute_result"
    }
   ],
   "source": [
    "C.most_common(5)"
   ]
  },
  {
   "cell_type": "code",
   "execution_count": null,
   "metadata": {},
   "outputs": [],
   "source": []
  }
 ],
 "metadata": {
  "kernelspec": {
   "display_name": "Python 3",
   "language": "python",
   "name": "python3"
  },
  "language_info": {
   "codemirror_mode": {
    "name": "ipython",
    "version": 3
   },
   "file_extension": ".py",
   "mimetype": "text/x-python",
   "name": "python",
   "nbconvert_exporter": "python",
   "pygments_lexer": "ipython3",
   "version": "3.6.10"
  }
 },
 "nbformat": 4,
 "nbformat_minor": 4
}
